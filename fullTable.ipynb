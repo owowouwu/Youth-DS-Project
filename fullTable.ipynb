{
 "cells": [
  {
   "cell_type": "code",
   "execution_count": 72,
   "id": "coupled-dispute",
   "metadata": {},
   "outputs": [],
   "source": [
    "import pandas as pd\n",
    "import numpy as np\n",
    "\n",
    "def vcamsLGA(factor, year, sheet = 0):\n",
    "    path = './raw_data/vcamsLGA/VCAMS_'+factor+'.xlsx'\n",
    "    df = pd.read_excel(path, sheet_name=sheet)\n",
    "    # remove unnamed rows\n",
    "    df = df.loc[:, ~df.columns.str.match('Unnamed')]\n",
    "    # remove aggregates (victoria)\n",
    "    df = df[~df['LGA'].str.contains('Victoria')]\n",
    "    df = df[df['Year'] == year]\n",
    "    df['LGA'] = df['LGA'].replace('\\([a-zA-Z]*\\)','', regex = True)\n",
    "    df['LGA'] = df['LGA'].str.strip()\n",
    "    df = df.set_index('LGA')\n",
    "    df.loc[df['Indicator'] == 'NDP'] = np.nan\n",
    "    df['Indicator'] = pd.to_numeric(df['Indicator'])\n",
    "    df = df.drop(['Numerator', 'Denominator', 'Year'], axis =1).rename({'Indicator': factor}, axis = 1)\n",
    "    return df\n",
    "\n",
    "def vcamsDHS(name, year=2014, sheet = 0):\n",
    "    path = './raw_data/vcamsDHS/VCAMS_'+name+'.xlsx'\n",
    "    df = pd.read_excel(path, sheet_name=sheet)\n",
    "    df = df[df['Year'] == year]\n",
    "    df = df.loc[:, ~df.columns.str.match('Unnamed')]\n",
    "    df = df[~df['DHS AREA'].str.contains('Victoria')]\n",
    "    df['DHS AREA'] = df['DHS AREA'].replace('Area', '', regex=True)\n",
    "    df['DHS AREA'] = df['DHS AREA'].str.strip()\n",
    "    df = df.drop(['RSE', 'Year'], axis=1)\n",
    "    df = df.set_index('DHS AREA')\n",
    "    df.loc[df['Indicator'] == 'NDP'] = np.nan\n",
    "    df['Indicator'] = pd.to_numeric(df['Indicator'], errors='ignore')\n",
    "    df = df.rename(columns={'Indicator': name})\n",
    "    return df\n",
    "\n"
   ]
  },
  {
   "cell_type": "code",
   "execution_count": 85,
   "id": "engaging-sydney",
   "metadata": {},
   "outputs": [],
   "source": [
    "depressionDHS = pd.read_csv('./wrangled/depression2018DHS.csv')\n",
    "depressionDHS['DHS AREA'] = depressionDHS['DHS AREA'].replace('Area', '', regex=True)\n",
    "depressionDHS['DHS AREA'] = depressionDHS['DHS AREA'].str.strip()\n",
    "depressionDHS = depressionDHS.set_index('DHS AREA')"
   ]
  },
  {
   "cell_type": "code",
   "execution_count": 18,
   "id": "neither-michigan",
   "metadata": {},
   "outputs": [
    {
     "data": {
      "text/html": [
       "<div>\n",
       "<style scoped>\n",
       "    .dataframe tbody tr th:only-of-type {\n",
       "        vertical-align: middle;\n",
       "    }\n",
       "\n",
       "    .dataframe tbody tr th {\n",
       "        vertical-align: top;\n",
       "    }\n",
       "\n",
       "    .dataframe thead th {\n",
       "        text-align: right;\n",
       "    }\n",
       "</style>\n",
       "<table border=\"1\" class=\"dataframe\">\n",
       "  <thead>\n",
       "    <tr style=\"text-align: right;\">\n",
       "      <th></th>\n",
       "      <th>Indicator</th>\n",
       "    </tr>\n",
       "    <tr>\n",
       "      <th>DHS AREA</th>\n",
       "      <th></th>\n",
       "    </tr>\n",
       "  </thead>\n",
       "  <tbody>\n",
       "    <tr>\n",
       "      <th>Barwon Area</th>\n",
       "      <td>0.047090</td>\n",
       "    </tr>\n",
       "    <tr>\n",
       "      <th>Bayside Peninsula Area</th>\n",
       "      <td>0.045726</td>\n",
       "    </tr>\n",
       "    <tr>\n",
       "      <th>Brimbank Melton</th>\n",
       "      <td>0.040905</td>\n",
       "    </tr>\n",
       "    <tr>\n",
       "      <th>Central Highlands Area</th>\n",
       "      <td>0.020097</td>\n",
       "    </tr>\n",
       "    <tr>\n",
       "      <th>Goulburn Area</th>\n",
       "      <td>0.047842</td>\n",
       "    </tr>\n",
       "    <tr>\n",
       "      <th>Hume Moreland Area</th>\n",
       "      <td>0.022939</td>\n",
       "    </tr>\n",
       "    <tr>\n",
       "      <th>Inner Eastern Melbourne Area</th>\n",
       "      <td>0.019938</td>\n",
       "    </tr>\n",
       "    <tr>\n",
       "      <th>Inner Gippsland Area</th>\n",
       "      <td>0.067882</td>\n",
       "    </tr>\n",
       "    <tr>\n",
       "      <th>Loddon Area</th>\n",
       "      <td>NaN</td>\n",
       "    </tr>\n",
       "    <tr>\n",
       "      <th>Mallee</th>\n",
       "      <td>0.040524</td>\n",
       "    </tr>\n",
       "    <tr>\n",
       "      <th>North Eastern Melbourne Area</th>\n",
       "      <td>0.027406</td>\n",
       "    </tr>\n",
       "    <tr>\n",
       "      <th>Outer Eastern Melbourne Area</th>\n",
       "      <td>0.041691</td>\n",
       "    </tr>\n",
       "    <tr>\n",
       "      <th>Outer Gippsland Area</th>\n",
       "      <td>0.010247</td>\n",
       "    </tr>\n",
       "    <tr>\n",
       "      <th>Ovens Murray Area</th>\n",
       "      <td>0.025181</td>\n",
       "    </tr>\n",
       "    <tr>\n",
       "      <th>Southern Melbourne Area</th>\n",
       "      <td>0.064300</td>\n",
       "    </tr>\n",
       "    <tr>\n",
       "      <th>Western District Area</th>\n",
       "      <td>0.029056</td>\n",
       "    </tr>\n",
       "    <tr>\n",
       "      <th>Western Melbourne Area</th>\n",
       "      <td>0.026903</td>\n",
       "    </tr>\n",
       "  </tbody>\n",
       "</table>\n",
       "</div>"
      ],
      "text/plain": [
       "                              Indicator\n",
       "DHS AREA                               \n",
       "Barwon Area                    0.047090\n",
       "Bayside Peninsula Area         0.045726\n",
       "Brimbank Melton                0.040905\n",
       "Central Highlands Area         0.020097\n",
       "Goulburn Area                  0.047842\n",
       "Hume Moreland Area             0.022939\n",
       "Inner Eastern Melbourne Area   0.019938\n",
       "Inner Gippsland Area           0.067882\n",
       "Loddon Area                         NaN\n",
       "Mallee                         0.040524\n",
       "North Eastern Melbourne Area   0.027406\n",
       "Outer Eastern Melbourne Area   0.041691\n",
       "Outer Gippsland Area           0.010247\n",
       "Ovens Murray Area              0.025181\n",
       "Southern Melbourne Area        0.064300\n",
       "Western District Area          0.029056\n",
       "Western Melbourne Area         0.026903"
      ]
     },
     "execution_count": 18,
     "metadata": {},
     "output_type": "execute_result"
    }
   ],
   "source": [
    "vcamsDHS('financial')"
   ]
  },
  {
   "cell_type": "code",
   "execution_count": 43,
   "id": "formal-hardwood",
   "metadata": {},
   "outputs": [
    {
     "ename": "SyntaxError",
     "evalue": "invalid syntax (<ipython-input-43-37de3441114d>, line 1)",
     "output_type": "error",
     "traceback": [
      "\u001b[1;36m  File \u001b[1;32m\"<ipython-input-43-37de3441114d>\"\u001b[1;36m, line \u001b[1;32m1\u001b[0m\n\u001b[1;33m    names = dict([line.split() for line in open('.\\raw_data\\vcamsDHS\\names.txt'), \"r\"])\u001b[0m\n\u001b[1;37m                                                                                ^\u001b[0m\n\u001b[1;31mSyntaxError\u001b[0m\u001b[1;31m:\u001b[0m invalid syntax\n"
     ]
    }
   ],
   "source": [
    "names = [s.strip('\\n') for s in open('./raw_data/vcamsDHS/names.txt', \"r\").readlines()"
   ]
  },
  {
   "cell_type": "code",
   "execution_count": 57,
   "id": "talented-annual",
   "metadata": {},
   "outputs": [],
   "source": [
    "files = {k: int(v) for line in open('./raw_data/vcamsDHS/names.txt', \"r\") for (k,v) in [line.split()]}"
   ]
  },
  {
   "cell_type": "code",
   "execution_count": 90,
   "id": "distant-lodge",
   "metadata": {},
   "outputs": [],
   "source": [
    "vcams_DHS_data = [vcamsDHS(i, year = files[i]) for i in files.keys()]"
   ]
  },
  {
   "cell_type": "code",
   "execution_count": 91,
   "id": "comparable-olive",
   "metadata": {
    "scrolled": true
   },
   "outputs": [],
   "source": [
    "DHS_data = depressionDHS.join(vcams_DHS_data)"
   ]
  },
  {
   "cell_type": "code",
   "execution_count": 92,
   "id": "decreased-mystery",
   "metadata": {},
   "outputs": [],
   "source": [
    "DHS_data.to_csv('./wrangled/DHSdata.csv')"
   ]
  },
  {
   "cell_type": "code",
   "execution_count": null,
   "id": "animal-swing",
   "metadata": {},
   "outputs": [],
   "source": []
  }
 ],
 "metadata": {
  "kernelspec": {
   "display_name": "Python 3",
   "language": "python",
   "name": "python3"
  },
  "language_info": {
   "codemirror_mode": {
    "name": "ipython",
    "version": 3
   },
   "file_extension": ".py",
   "mimetype": "text/x-python",
   "name": "python",
   "nbconvert_exporter": "python",
   "pygments_lexer": "ipython3",
   "version": "3.8.5"
  }
 },
 "nbformat": 4,
 "nbformat_minor": 5
}
